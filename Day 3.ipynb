{
 "cells": [
  {
   "cell_type": "code",
   "execution_count": 1,
   "id": "bcc9eccd",
   "metadata": {},
   "outputs": [
    {
     "name": "stdout",
     "output_type": "stream",
     "text": [
      "shoyeb patwekar\n"
     ]
    }
   ],
   "source": [
    "fullname=\"shoyeb patwekar\"\n",
    "print(fullname)"
   ]
  },
  {
   "cell_type": "code",
   "execution_count": 2,
   "id": "9e719f64",
   "metadata": {},
   "outputs": [
    {
     "name": "stdout",
     "output_type": "stream",
     "text": [
      "Shoyeb Patwekar\n"
     ]
    }
   ],
   "source": [
    "print(fullname.title())"
   ]
  },
  {
   "cell_type": "code",
   "execution_count": 4,
   "id": "6156eef0",
   "metadata": {},
   "outputs": [
    {
     "name": "stdout",
     "output_type": "stream",
     "text": [
      "SHOYEB PATWEKAR\n"
     ]
    }
   ],
   "source": [
    "print(fullname.upper())"
   ]
  },
  {
   "cell_type": "code",
   "execution_count": 6,
   "id": "de6558a8",
   "metadata": {},
   "outputs": [
    {
     "name": "stdout",
     "output_type": "stream",
     "text": [
      "shoyeb patwekar\n"
     ]
    }
   ],
   "source": [
    "print(fullname.lower())"
   ]
  },
  {
   "cell_type": "code",
   "execution_count": 7,
   "id": "ca18f6dd",
   "metadata": {},
   "outputs": [],
   "source": [
    "firstname='shoyeb'"
   ]
  },
  {
   "cell_type": "code",
   "execution_count": 11,
   "id": "0a595890",
   "metadata": {},
   "outputs": [],
   "source": [
    "lastname='patwekar'"
   ]
  },
  {
   "cell_type": "code",
   "execution_count": 46,
   "id": "9fef53fc",
   "metadata": {},
   "outputs": [],
   "source": [
    "fullname=f\"{firstname} {lastname}\""
   ]
  },
  {
   "cell_type": "code",
   "execution_count": 47,
   "id": "513dc8de",
   "metadata": {},
   "outputs": [
    {
     "name": "stdout",
     "output_type": "stream",
     "text": [
      "shoyeb patwekar\n"
     ]
    }
   ],
   "source": [
    "print(fullname)"
   ]
  },
  {
   "cell_type": "code",
   "execution_count": 48,
   "id": "8bcdb2f0",
   "metadata": {},
   "outputs": [
    {
     "name": "stdout",
     "output_type": "stream",
     "text": [
      "Shoyeb Patwekar\n"
     ]
    }
   ],
   "source": [
    "print(fullname.title())"
   ]
  },
  {
   "cell_type": "code",
   "execution_count": 49,
   "id": "af26b2c9",
   "metadata": {},
   "outputs": [],
   "source": [
    "message=f\"keep up the good work {fullname.title()}\""
   ]
  },
  {
   "cell_type": "code",
   "execution_count": 50,
   "id": "34347a69",
   "metadata": {},
   "outputs": [
    {
     "name": "stdout",
     "output_type": "stream",
     "text": [
      "keep up the good work Shoyeb Patwekar\n"
     ]
    }
   ],
   "source": [
    "print(message)"
   ]
  },
  {
   "cell_type": "code",
   "execution_count": null,
   "id": "407e32aa",
   "metadata": {},
   "outputs": [],
   "source": []
  },
  {
   "cell_type": "code",
   "execution_count": 51,
   "id": "ff19378b",
   "metadata": {},
   "outputs": [
    {
     "name": "stdout",
     "output_type": "stream",
     "text": [
      "fav_language:python java c++ swift scala\n"
     ]
    }
   ],
   "source": [
    "print('fav_language:python java c++ swift scala')"
   ]
  },
  {
   "cell_type": "code",
   "execution_count": 52,
   "id": "f8bd7bc7",
   "metadata": {},
   "outputs": [
    {
     "name": "stdout",
     "output_type": "stream",
     "text": [
      "fav_language:\n",
      "python \n",
      "java \n",
      "c++ \n",
      "swift \n",
      "scala\n"
     ]
    }
   ],
   "source": [
    "print('fav_language:\\npython \\njava \\nc++ \\nswift \\nscala')"
   ]
  },
  {
   "cell_type": "code",
   "execution_count": 53,
   "id": "be778216",
   "metadata": {},
   "outputs": [
    {
     "name": "stdout",
     "output_type": "stream",
     "text": [
      "fav_language:\n",
      "\tpython \n",
      "\tjava \n",
      "\tc++ \n",
      "\tswift \n",
      "\tscala\n"
     ]
    }
   ],
   "source": [
    "print('fav_language:\\n\\tpython \\n\\tjava \\n\\tc++ \\n\\tswift \\n\\tscala')"
   ]
  },
  {
   "cell_type": "code",
   "execution_count": null,
   "id": "8f6630ec",
   "metadata": {},
   "outputs": [],
   "source": []
  },
  {
   "cell_type": "code",
   "execution_count": 54,
   "id": "12a41f5d",
   "metadata": {},
   "outputs": [],
   "source": [
    "name=\"python\""
   ]
  },
  {
   "cell_type": "code",
   "execution_count": 55,
   "id": "ce2b160f",
   "metadata": {},
   "outputs": [
    {
     "name": "stdout",
     "output_type": "stream",
     "text": [
      "python\n"
     ]
    }
   ],
   "source": [
    "print(name)"
   ]
  },
  {
   "cell_type": "code",
   "execution_count": 56,
   "id": "084bae44",
   "metadata": {},
   "outputs": [],
   "source": [
    "name2=\"python   \""
   ]
  },
  {
   "cell_type": "code",
   "execution_count": 57,
   "id": "c1a197e3",
   "metadata": {},
   "outputs": [
    {
     "name": "stdout",
     "output_type": "stream",
     "text": [
      "python   \n"
     ]
    }
   ],
   "source": [
    "print(name2)"
   ]
  },
  {
   "cell_type": "code",
   "execution_count": 58,
   "id": "831c02f1",
   "metadata": {},
   "outputs": [],
   "source": [
    "name3=\"    python\""
   ]
  },
  {
   "cell_type": "code",
   "execution_count": 59,
   "id": "ae9f1509",
   "metadata": {},
   "outputs": [
    {
     "name": "stdout",
     "output_type": "stream",
     "text": [
      "    python\n"
     ]
    }
   ],
   "source": [
    "print(name3)"
   ]
  },
  {
   "cell_type": "code",
   "execution_count": null,
   "id": "2d9b66c6",
   "metadata": {},
   "outputs": [],
   "source": []
  },
  {
   "cell_type": "code",
   "execution_count": 60,
   "id": "d3a7e5e8",
   "metadata": {},
   "outputs": [
    {
     "data": {
      "text/plain": [
       "'python'"
      ]
     },
     "execution_count": 60,
     "metadata": {},
     "output_type": "execute_result"
    }
   ],
   "source": [
    "name2.rstrip()"
   ]
  },
  {
   "cell_type": "code",
   "execution_count": 61,
   "id": "bacfcfcc",
   "metadata": {},
   "outputs": [
    {
     "data": {
      "text/plain": [
       "'python'"
      ]
     },
     "execution_count": 61,
     "metadata": {},
     "output_type": "execute_result"
    }
   ],
   "source": [
    "name3.lstrip()"
   ]
  },
  {
   "cell_type": "code",
   "execution_count": null,
   "id": "139f125e",
   "metadata": {},
   "outputs": [],
   "source": []
  }
 ],
 "metadata": {
  "kernelspec": {
   "display_name": "Python 3 (ipykernel)",
   "language": "python",
   "name": "python3"
  },
  "language_info": {
   "codemirror_mode": {
    "name": "ipython",
    "version": 3
   },
   "file_extension": ".py",
   "mimetype": "text/x-python",
   "name": "python",
   "nbconvert_exporter": "python",
   "pygments_lexer": "ipython3",
   "version": "3.11.5"
  }
 },
 "nbformat": 4,
 "nbformat_minor": 5
}
