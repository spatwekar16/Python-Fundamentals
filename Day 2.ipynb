{
 "cells": [
  {
   "cell_type": "code",
   "execution_count": 7,
   "id": "071e378a",
   "metadata": {},
   "outputs": [],
   "source": [
    "           \n",
    "x=2"
   ]
  },
  {
   "cell_type": "code",
   "execution_count": null,
   "id": "15c50854",
   "metadata": {},
   "outputs": [],
   "source": []
  },
  {
   "cell_type": "code",
   "execution_count": null,
   "id": "00e52c1b",
   "metadata": {},
   "outputs": [],
   "source": [
    "y=3"
   ]
  },
  {
   "cell_type": "code",
   "execution_count": 5,
   "id": "7c53581f",
   "metadata": {},
   "outputs": [
    {
     "name": "stdout",
     "output_type": "stream",
     "text": [
      "5\n"
     ]
    }
   ],
   "source": [
    "z=x+y\n",
    "\n",
    "print(z)"
   ]
  },
  {
   "cell_type": "code",
   "execution_count": null,
   "id": "84ae9309",
   "metadata": {},
   "outputs": [],
   "source": [
    "2 topic"
   ]
  },
  {
   "cell_type": "code",
   "execution_count": 9,
   "id": "6adf690b",
   "metadata": {},
   "outputs": [
    {
     "name": "stdout",
     "output_type": "stream",
     "text": [
      "shoyeb\n"
     ]
    }
   ],
   "source": [
    "name='shoyeb'\n",
    "print(name)"
   ]
  },
  {
   "cell_type": "code",
   "execution_count": 10,
   "id": "e095d26b",
   "metadata": {},
   "outputs": [
    {
     "name": "stdout",
     "output_type": "stream",
     "text": [
      "shoyeb\n"
     ]
    }
   ],
   "source": [
    "name2=\"shoyeb patwekar\"\n",
    "print(name)"
   ]
  },
  {
   "cell_type": "code",
   "execution_count": null,
   "id": "d5905a98",
   "metadata": {},
   "outputs": [],
   "source": [
    "topic 3"
   ]
  },
  {
   "cell_type": "code",
   "execution_count": 11,
   "id": "1f709f0d",
   "metadata": {},
   "outputs": [
    {
     "data": {
      "text/plain": [
       "str"
      ]
     },
     "execution_count": 11,
     "metadata": {},
     "output_type": "execute_result"
    }
   ],
   "source": [
    "type(name)"
   ]
  },
  {
   "cell_type": "code",
   "execution_count": 12,
   "id": "1bf20101",
   "metadata": {},
   "outputs": [
    {
     "data": {
      "text/plain": [
       "str"
      ]
     },
     "execution_count": 12,
     "metadata": {},
     "output_type": "execute_result"
    }
   ],
   "source": [
    "type(name2)"
   ]
  },
  {
   "cell_type": "code",
   "execution_count": null,
   "id": "157bfdf0",
   "metadata": {},
   "outputs": [],
   "source": [
    "topic4"
   ]
  },
  {
   "cell_type": "code",
   "execution_count": 13,
   "id": "e527a195",
   "metadata": {},
   "outputs": [
    {
     "name": "stdout",
     "output_type": "stream",
     "text": [
      "shoyeb patwekar\n"
     ]
    }
   ],
   "source": [
    "fullname='shoyeb patwekar'\n",
    "print(fullname)"
   ]
  },
  {
   "cell_type": "code",
   "execution_count": 14,
   "id": "9a71eb26",
   "metadata": {},
   "outputs": [
    {
     "name": "stdout",
     "output_type": "stream",
     "text": [
      "Shoyeb Patwekar\n"
     ]
    }
   ],
   "source": [
    "print(fullname.title())"
   ]
  },
  {
   "cell_type": "code",
   "execution_count": null,
   "id": "1073a751",
   "metadata": {},
   "outputs": [],
   "source": []
  }
 ],
 "metadata": {
  "kernelspec": {
   "display_name": "Python 3 (ipykernel)",
   "language": "python",
   "name": "python3"
  },
  "language_info": {
   "codemirror_mode": {
    "name": "ipython",
    "version": 3
   },
   "file_extension": ".py",
   "mimetype": "text/x-python",
   "name": "python",
   "nbconvert_exporter": "python",
   "pygments_lexer": "ipython3",
   "version": "3.11.5"
  }
 },
 "nbformat": 4,
 "nbformat_minor": 5
}
