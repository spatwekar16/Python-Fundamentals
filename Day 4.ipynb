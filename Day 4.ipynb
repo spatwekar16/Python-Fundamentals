{
 "cells": [
  {
   "cell_type": "code",
   "execution_count": 3,
   "id": "8f907429",
   "metadata": {},
   "outputs": [],
   "source": [
    "students=['khadija','anitha','naveen','suresh','keerthi','darid']"
   ]
  },
  {
   "cell_type": "code",
   "execution_count": 4,
   "id": "1b7e2c79",
   "metadata": {},
   "outputs": [
    {
     "name": "stdout",
     "output_type": "stream",
     "text": [
      "['khadija', 'anitha', 'naveen', 'suresh', 'keerthi', 'darid']\n"
     ]
    }
   ],
   "source": [
    "print(students)"
   ]
  },
  {
   "cell_type": "code",
   "execution_count": 5,
   "id": "0540da7b",
   "metadata": {},
   "outputs": [
    {
     "name": "stdout",
     "output_type": "stream",
     "text": [
      "anitha\n"
     ]
    }
   ],
   "source": [
    "print(students[1])"
   ]
  },
  {
   "cell_type": "code",
   "execution_count": 6,
   "id": "d19b70de",
   "metadata": {},
   "outputs": [
    {
     "name": "stdout",
     "output_type": "stream",
     "text": [
      "suresh\n"
     ]
    }
   ],
   "source": [
    "print(students[3])"
   ]
  },
  {
   "cell_type": "code",
   "execution_count": 8,
   "id": "2e93244c",
   "metadata": {},
   "outputs": [
    {
     "name": "stdout",
     "output_type": "stream",
     "text": [
      "Suresh\n"
     ]
    }
   ],
   "source": [
    "print(students[3].title())"
   ]
  },
  {
   "cell_type": "code",
   "execution_count": 10,
   "id": "98bd192a",
   "metadata": {},
   "outputs": [
    {
     "name": "stdout",
     "output_type": "stream",
     "text": [
      "Anitha\n"
     ]
    }
   ],
   "source": [
    "print(students[1].title())"
   ]
  },
  {
   "cell_type": "code",
   "execution_count": null,
   "id": "3c227d5b",
   "metadata": {},
   "outputs": [],
   "source": []
  },
  {
   "cell_type": "code",
   "execution_count": 11,
   "id": "50f01a93",
   "metadata": {},
   "outputs": [],
   "source": [
    "students.append('satish')"
   ]
  },
  {
   "cell_type": "code",
   "execution_count": 12,
   "id": "2dde6c0f",
   "metadata": {},
   "outputs": [
    {
     "name": "stdout",
     "output_type": "stream",
     "text": [
      "['khadija', 'anitha', 'naveen', 'suresh', 'keerthi', 'darid', 'satish']\n"
     ]
    }
   ],
   "source": [
    "print(students)"
   ]
  },
  {
   "cell_type": "code",
   "execution_count": 13,
   "id": "2b4ee53e",
   "metadata": {},
   "outputs": [],
   "source": [
    "students.append('shoyeb')"
   ]
  },
  {
   "cell_type": "code",
   "execution_count": 14,
   "id": "b578f4a5",
   "metadata": {},
   "outputs": [
    {
     "name": "stdout",
     "output_type": "stream",
     "text": [
      "['khadija', 'anitha', 'naveen', 'suresh', 'keerthi', 'darid', 'satish', 'shoyeb']\n"
     ]
    }
   ],
   "source": [
    "print(students)"
   ]
  },
  {
   "cell_type": "code",
   "execution_count": 15,
   "id": "f847bb71",
   "metadata": {},
   "outputs": [],
   "source": [
    "students.insert(2,'tanvir')"
   ]
  },
  {
   "cell_type": "code",
   "execution_count": 16,
   "id": "9c22e067",
   "metadata": {},
   "outputs": [
    {
     "name": "stdout",
     "output_type": "stream",
     "text": [
      "['khadija', 'anitha', 'tanvir', 'naveen', 'suresh', 'keerthi', 'darid', 'satish', 'shoyeb']\n"
     ]
    }
   ],
   "source": [
    "print(students)"
   ]
  },
  {
   "cell_type": "code",
   "execution_count": null,
   "id": "d02601ed",
   "metadata": {},
   "outputs": [],
   "source": []
  },
  {
   "cell_type": "code",
   "execution_count": 17,
   "id": "299ea5de",
   "metadata": {},
   "outputs": [],
   "source": [
    "students[0]='rubina'"
   ]
  },
  {
   "cell_type": "code",
   "execution_count": 18,
   "id": "75a44670",
   "metadata": {},
   "outputs": [
    {
     "name": "stdout",
     "output_type": "stream",
     "text": [
      "['rubina', 'anitha', 'tanvir', 'naveen', 'suresh', 'keerthi', 'darid', 'satish', 'shoyeb']\n"
     ]
    }
   ],
   "source": [
    "print(students)"
   ]
  },
  {
   "cell_type": "code",
   "execution_count": null,
   "id": "08163bed",
   "metadata": {},
   "outputs": [],
   "source": []
  },
  {
   "cell_type": "code",
   "execution_count": 19,
   "id": "174dfd9d",
   "metadata": {},
   "outputs": [],
   "source": [
    "del students[1]"
   ]
  },
  {
   "cell_type": "code",
   "execution_count": 20,
   "id": "c09a7a81",
   "metadata": {},
   "outputs": [
    {
     "name": "stdout",
     "output_type": "stream",
     "text": [
      "['rubina', 'tanvir', 'naveen', 'suresh', 'keerthi', 'darid', 'satish', 'shoyeb']\n"
     ]
    }
   ],
   "source": [
    "print(students)"
   ]
  },
  {
   "cell_type": "code",
   "execution_count": null,
   "id": "631e12a6",
   "metadata": {},
   "outputs": [],
   "source": []
  }
 ],
 "metadata": {
  "kernelspec": {
   "display_name": "Python 3 (ipykernel)",
   "language": "python",
   "name": "python3"
  },
  "language_info": {
   "codemirror_mode": {
    "name": "ipython",
    "version": 3
   },
   "file_extension": ".py",
   "mimetype": "text/x-python",
   "name": "python",
   "nbconvert_exporter": "python",
   "pygments_lexer": "ipython3",
   "version": "3.11.5"
  }
 },
 "nbformat": 4,
 "nbformat_minor": 5
}
